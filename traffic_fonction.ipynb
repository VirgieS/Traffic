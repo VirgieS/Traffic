{
 "cells": [
  {
   "cell_type": "code",
   "execution_count": 1,
   "metadata": {
    "collapsed": true
   },
   "outputs": [],
   "source": [
    "import numpy                       \n",
    "from matplotlib import pyplot                 \n",
    "%matplotlib inline\n",
    "from matplotlib import rcParams\n",
    "rcParams['font.family'] = 'serif'\n",
    "rcParams['font.size'] = 16"
   ]
  },
  {
   "cell_type": "markdown",
   "metadata": {},
   "source": [
    "## Encoder toutes les valeurs en kilomètres et en heures."
   ]
  },
  {
   "cell_type": "code",
   "execution_count": 8,
   "metadata": {
    "collapsed": true
   },
   "outputs": [],
   "source": [
    "def traffic(vmax,rhoinit,tmax):\n",
    "    \n",
    "    L = 11\n",
    "    rhomax = 250\n",
    "    nx = 51\n",
    "    dx = L/(nx -1)\n",
    "    dt = 0.001\n",
    "    nt = int(tmax/dt)+1\n",
    "    t=0\n",
    "    x = numpy.linspace(0,L,nx)\n",
    "    rho0 = numpy.ones(nx)*rhoinit\n",
    "    rho0[10:20] = 50\n",
    "    rho=rho0.copy()\n",
    "    \n",
    "    for n in range(1, nt):  \n",
    "        rhon = rho.copy()\n",
    "        rho[1:] = rhon[1:]-vmax*(rhon[1:]*(1-rhon[1:]/rhomax)-rhon[0:-1]*(1-rhon[0:-1]/rhomax))*dt/dx\n",
    "        rho[0]=10\n",
    "        \n",
    "        t=t+dt\n",
    "        if t==0.05:\n",
    "            rho1=rho.copy()  \n",
    "    # tableau de 3 tableaux contenant rho0, rho1 et rho2=rho\n",
    "    \n",
    "    # tableau de 3 tableaux contenant v0, v1, v2\n",
    "    # v[:]=vmax*(1-rho[:]/rhomax) # à changer pour les 2 tableaux de 3 tableaux"
   ]
  },
  {
   "cell_type": "code",
   "execution_count": 11,
   "metadata": {
    "collapsed": true
   },
   "outputs": [],
   "source": [
    "# appeler la fonction pour vmax=80, rhoinit=10, tmax=0,1\n",
    "#vmin=min(v)#à changer pour les 3 entrées du tableau de vitesses"
   ]
  },
  {
   "cell_type": "code",
   "execution_count": 12,
   "metadata": {
    "collapsed": true
   },
   "outputs": [],
   "source": [
    "# for dans chaque entrée du tableau de vitesses : sommer et diviser par nx"
   ]
  },
  {
   "cell_type": "markdown",
   "metadata": {},
   "source": [
    "appliquer minimum à v0 et v2\n",
    "\n",
    "appliquer moyenne à v1\n",
    "\n",
    "print les rtucs en (m/s)"
   ]
  },
  {
   "cell_type": "code",
   "execution_count": 13,
   "metadata": {
    "collapsed": true
   },
   "outputs": [],
   "source": [
    "# copier-coller avec fonction pour vmax=136, rhoinit=20, tmax=0.05"
   ]
  },
  {
   "cell_type": "markdown",
   "metadata": {},
   "source": [
    "Printer TOUS les graphiques"
   ]
  },
  {
   "cell_type": "markdown",
   "metadata": {},
   "source": [
    "BONUS: faire l'animation avec conditions périodiques"
   ]
  },
  {
   "cell_type": "code",
   "execution_count": null,
   "metadata": {
    "collapsed": true
   },
   "outputs": [],
   "source": []
  }
 ],
 "metadata": {
  "kernelspec": {
   "display_name": "Python 3",
   "language": "python",
   "name": "python3"
  },
  "language_info": {
   "codemirror_mode": {
    "name": "ipython",
    "version": 3
   },
   "file_extension": ".py",
   "mimetype": "text/x-python",
   "name": "python",
   "nbconvert_exporter": "python",
   "pygments_lexer": "ipython3",
   "version": "3.4.3"
  }
 },
 "nbformat": 4,
 "nbformat_minor": 0
}
